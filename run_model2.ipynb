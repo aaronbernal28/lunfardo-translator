{
 "cells": [
  {
   "cell_type": "markdown",
   "id": "78d5e819",
   "metadata": {},
   "source": [
    "## Setup"
   ]
  },
  {
   "cell_type": "code",
   "execution_count": 1,
   "id": "284c2530",
   "metadata": {},
   "outputs": [
    {
     "name": "stdout",
     "output_type": "stream",
     "text": [
      "Usando dispositivo: cuda\n"
     ]
    }
   ],
   "source": [
    "import torch\n",
    "import torch.nn as nn\n",
    "import pandas as pd\n",
    "import matplotlib.pyplot as plt\n",
    "from transformers import BertTokenizer\n",
    "from torch.utils.data import Dataset, DataLoader\n",
    "from torch.nn.utils.rnn import pad_sequence\n",
    "from codebase.models.model2 import model2\n",
    "from codebase.train import train\n",
    "device = torch.device('cuda' if torch.cuda.is_available() else 'cpu')\n",
    "print(f\"Usando dispositivo: {device}\")\n",
    "torch.cuda.set_per_process_memory_fraction(0.8)"
   ]
  },
  {
   "cell_type": "code",
   "execution_count": 2,
   "id": "0175300a",
   "metadata": {},
   "outputs": [
    {
     "data": {
      "text/html": [
       "<div>\n",
       "<style scoped>\n",
       "    .dataframe tbody tr th:only-of-type {\n",
       "        vertical-align: middle;\n",
       "    }\n",
       "\n",
       "    .dataframe tbody tr th {\n",
       "        vertical-align: top;\n",
       "    }\n",
       "\n",
       "    .dataframe thead th {\n",
       "        text-align: right;\n",
       "    }\n",
       "</style>\n",
       "<table border=\"1\" class=\"dataframe\">\n",
       "  <thead>\n",
       "    <tr style=\"text-align: right;\">\n",
       "      <th></th>\n",
       "      <th>spanish</th>\n",
       "      <th>lunfardo</th>\n",
       "    </tr>\n",
       "  </thead>\n",
       "  <tbody>\n",
       "    <tr>\n",
       "      <th>0</th>\n",
       "      <td>representaciones de la tierra y el agua de sis...</td>\n",
       "      <td>¡las labras de la tierra y el agua mierda son ...</td>\n",
       "    </tr>\n",
       "    <tr>\n",
       "      <th>1</th>\n",
       "      <td>gente nadando en la alberca 2022 es una de las...</td>\n",
       "      <td>gente chapoteando en la pileta 2022 es uno de ...</td>\n",
       "    </tr>\n",
       "    <tr>\n",
       "      <th>2</th>\n",
       "      <td>tierra del sol se complace en presentar vicent...</td>\n",
       "      <td>tierra del sol se pone el moño pa' presentarte...</td>\n",
       "    </tr>\n",
       "    <tr>\n",
       "      <th>3</th>\n",
       "      <td>trabajando con maestría diversas temáticas, si...</td>\n",
       "      <td>con un chamuyo bárbaro, el siso se mandó una b...</td>\n",
       "    </tr>\n",
       "    <tr>\n",
       "      <th>4</th>\n",
       "      <td>la galería tierra del sol se encuentra en el 7...</td>\n",
       "      <td>la canchita tierra del sol la garrás en el 741...</td>\n",
       "    </tr>\n",
       "  </tbody>\n",
       "</table>\n",
       "</div>"
      ],
      "text/plain": [
       "                                             spanish  \\\n",
       "0  representaciones de la tierra y el agua de sis...   \n",
       "1  gente nadando en la alberca 2022 es una de las...   \n",
       "2  tierra del sol se complace en presentar vicent...   \n",
       "3  trabajando con maestría diversas temáticas, si...   \n",
       "4  la galería tierra del sol se encuentra en el 7...   \n",
       "\n",
       "                                            lunfardo  \n",
       "0  ¡las labras de la tierra y el agua mierda son ...  \n",
       "1  gente chapoteando en la pileta 2022 es uno de ...  \n",
       "2  tierra del sol se pone el moño pa' presentarte...  \n",
       "3  con un chamuyo bárbaro, el siso se mandó una b...  \n",
       "4  la canchita tierra del sol la garrás en el 741...  "
      ]
     },
     "execution_count": 2,
     "metadata": {},
     "output_type": "execute_result"
    }
   ],
   "source": [
    "# cargamos los datos small\n",
    "data = pd.read_csv('data/es_MX-es_LF_small.txt', sep='\\t', header=None)\n",
    "data.columns = ['spanish', 'lunfardo']\n",
    "data.head()"
   ]
  },
  {
   "cell_type": "code",
   "execution_count": 3,
   "id": "89a44676",
   "metadata": {},
   "outputs": [
    {
     "name": "stdout",
     "output_type": "stream",
     "text": [
      "Primer elemento del dataset de entrenamiento: {'input': tensor([  101, 10173, 10192, 17009, 23877, 94239, 13686, 12692, 11048, 60078,\n",
      "          117, 10161, 75227, 33891, 16803, 10329, 10181, 10130, 50373, 10112,\n",
      "        10542, 21963,   119, 10117, 75227, 51115, 31982, 10134, 37149, 10181,\n",
      "        10128, 26556, 10106, 57040, 35393, 10102, 23145, 28695, 15993, 10352,\n",
      "          119, 50981, 10128, 28157, 24760, 10239, 65714, 74698, 10109, 10106,\n",
      "        15489,   119, 15195, 13139, 14478, 11801, 10131,   143, 10877, 29298,\n",
      "        10107,   167, 10102, 31546, 59002, 11280,   119, 10791, 10181, 14478,\n",
      "        11801, 10281,   143, 10106, 47727, 10992, 10102, 36271, 33891,   119,\n",
      "          102], device='cuda:0'), 'target': tensor([  101, 10173, 10192, 80158, 10378, 10102, 14727, 12519, 11449, 10743,\n",
      "        14258, 10132,   117, 10161, 75227, 33891, 10102, 16803, 10130, 12895,\n",
      "        11596, 10119, 41260, 11259, 10126, 10387, 10312, 10208,   119, 10117,\n",
      "        75227, 51115, 31982, 10134, 37149, 10219, 10128, 65824, 10112, 10109,\n",
      "        93688, 10117, 28115, 10335,   119, 10128, 75037, 13541, 11542, 10416,\n",
      "        10202,   112, 33631, 14223, 16643, 10109, 10106, 15489,   119, 15195,\n",
      "        10354, 13240, 10202,   112, 10678, 13746,   143, 10175, 13384, 34311,\n",
      "        10107, 10126, 10695,   167,   143, 10175, 10126, 10387, 63644, 10115,\n",
      "        10678, 13746,   119, 10791,   143, 10106, 10651, 10102, 36271, 33891,\n",
      "          117, 10219,   143, 43936, 10107,   119,   102], device='cuda:0'), 'input_length': tensor(81, device='cuda:0'), 'target_length': tensor(97, device='cuda:0')}\n"
     ]
    }
   ],
   "source": [
    "from sklearn.model_selection import train_test_split\n",
    "\n",
    "X_train, X_val, y_train, y_val = train_test_split(data['spanish'], data['lunfardo'],\n",
    "                                                  test_size=0.1, random_state=28)\n",
    "\n",
    "model_name = \"bert-base-multilingual-uncased\"\n",
    "tokenizer = BertTokenizer.from_pretrained(model_name)\n",
    "\n",
    "class dataset_token(Dataset):\n",
    "    def __init__(self, x, y):\n",
    "        self.pairs = list(zip(x, y))\n",
    "\n",
    "    def __len__(self):\n",
    "        return len(self.pairs)\n",
    "    \n",
    "    def __getitem__(self, idx):\n",
    "        xs, ys = self.pairs[idx]\n",
    "        tokenized_xs = torch.tensor(tokenizer.encode(xs)).to(device)\n",
    "        tokenized_ys = torch.tensor(tokenizer.encode(ys)).to(device)\n",
    "\n",
    "        return {\n",
    "            'input': tokenized_xs,\n",
    "            'target': tokenized_ys,\n",
    "            'input_length': torch.tensor(tokenized_xs.shape[0]).to(device),\n",
    "            'target_length': torch.tensor(tokenized_ys.shape[0]).to(device)\n",
    "    }\n",
    "\n",
    "train_dataset = dataset_token(X_train, y_train)\n",
    "val_dataset = dataset_token(X_val, y_val)\n",
    "\n",
    "print('Primer elemento del dataset de entrenamiento:', train_dataset[1])"
   ]
  },
  {
   "cell_type": "code",
   "execution_count": 4,
   "id": "4b6ca230",
   "metadata": {},
   "outputs": [],
   "source": [
    "def custom_collate(batch):\n",
    "    inputs = [item['input'] for item in batch]\n",
    "    targets = [item['target'] for item in batch]\n",
    "    padded_inputs = pad_sequence(inputs, batch_first=True, padding_value=tokenizer.pad_token_id)  # (batch, max_len, 768)\n",
    "    padded_targets = pad_sequence(targets, batch_first=True, padding_value=tokenizer.pad_token_id)\n",
    "    return {'input': padded_inputs,\n",
    "            'target': padded_targets,\n",
    "            'input_length': torch.tensor([item['input_length'] for item in batch]),\n",
    "            'target_length': torch.tensor([item['target_length'] for item in batch])}"
   ]
  },
  {
   "cell_type": "markdown",
   "id": "8f82a5fd",
   "metadata": {},
   "source": [
    "## Intento 1\n",
    "Experimento con distintos hiperparametros "
   ]
  },
  {
   "cell_type": "code",
   "execution_count": 5,
   "id": "88f9d431",
   "metadata": {},
   "outputs": [
    {
     "name": "stdout",
     "output_type": "stream",
     "text": [
      "Modelo creado con 161775255 parámetros\n"
     ]
    }
   ],
   "source": [
    "# Inicializa el modelo \n",
    "model = model2(name='BERT + Transformers').to(device)\n",
    "\n",
    "print(f\"Modelo creado con {sum(p.numel() for p in model.parameters())} parámetros\")"
   ]
  },
  {
   "cell_type": "code",
   "execution_count": null,
   "id": "30312f08",
   "metadata": {},
   "outputs": [
    {
     "name": "stdout",
     "output_type": "stream",
     "text": [
      "Iniciando entrenamiento...\n",
      "--------------------------------------------------\n"
     ]
    },
    {
     "name": "stderr",
     "output_type": "stream",
     "text": [
      "c:\\Users\\aaron\\AppData\\Local\\Programs\\Python\\Python312\\Lib\\site-packages\\torch\\nn\\functional.py:5962: UserWarning: Support for mismatched key_padding_mask and attn_mask is deprecated. Use same type for both instead.\n",
      "  warnings.warn(\n",
      "c:\\Users\\aaron\\AppData\\Local\\Programs\\Python\\Python312\\Lib\\site-packages\\torch\\nn\\modules\\transformer.py:505: UserWarning: The PyTorch API of nested tensors is in prototype stage and will change in the near future. We recommend specifying layout=torch.jagged when constructing a nested tensor, as this layout receives active development, has better operator coverage, and works with torch.compile. (Triggered internally at C:\\actions-runner\\_work\\pytorch\\pytorch\\pytorch\\aten\\src\\ATen\\NestedTensorImpl.cpp:182.)\n",
      "  output = torch._nested_tensor_from_mask(\n"
     ]
    },
    {
     "name": "stdout",
     "output_type": "stream",
     "text": [
      "Época 5/5:\n",
      "  Pérdida Entrenamiento: 6.1180\n",
      "  Pérdida Testeo: 6.8428\n",
      "  Empeorando\n",
      "Entrenamiento completado! Tiempo total: 433.38 segundos\n"
     ]
    },
    {
     "data": {
      "text/plain": [
       "([6.953444611294106,\n",
       "  6.235646995442767,\n",
       "  6.171508249788959,\n",
       "  6.144947244836447,\n",
       "  6.11800951255984],\n",
       " [6.627228915691376,\n",
       "  6.678502236803372,\n",
       "  6.780250042676926,\n",
       "  6.809046372771263,\n",
       "  6.8428047349055605])"
      ]
     },
     "execution_count": 6,
     "metadata": {},
     "output_type": "execute_result"
    }
   ],
   "source": [
    "BATCH_SIZE = 1\n",
    "\n",
    "train_dataloader = DataLoader(train_dataset, batch_size=BATCH_SIZE, collate_fn=custom_collate)\n",
    "val_dataloader = DataLoader(val_dataset, batch_size=BATCH_SIZE, collate_fn=custom_collate)\n",
    "\n",
    "NUM_EPOCHS = 5\n",
    "LR = 1e-3\n",
    "train(model, train_dataloader, val_dataloader, epoch_max=NUM_EPOCHS, lr=LR)"
   ]
  },
  {
   "cell_type": "markdown",
   "id": "e6dd2537",
   "metadata": {},
   "source": [
    "## Intento 2"
   ]
  },
  {
   "cell_type": "code",
   "execution_count": 5,
   "id": "4974412d",
   "metadata": {},
   "outputs": [
    {
     "name": "stdout",
     "output_type": "stream",
     "text": [
      "Modelo creado con 38467991 parámetros\n"
     ]
    }
   ],
   "source": [
    "# Inicializa el modelo \n",
    "model = model2(name='BERT + Transformers',\n",
    "               d_model=256,\n",
    "               nhead=2,\n",
    "               num_encoder_layers=6,\n",
    "               num_decoder_layers=6,\n",
    "               dim_feedforward=1024\n",
    "               ).to(device)\n",
    "\n",
    "print(f\"Modelo creado con {sum(p.numel() for p in model.parameters())} parámetros\")"
   ]
  },
  {
   "cell_type": "code",
   "execution_count": 6,
   "id": "4966af8b",
   "metadata": {},
   "outputs": [
    {
     "name": "stdout",
     "output_type": "stream",
     "text": [
      "Iniciando entrenamiento...\n",
      "--------------------------------------------------\n"
     ]
    },
    {
     "name": "stderr",
     "output_type": "stream",
     "text": [
      "c:\\Users\\aaron\\AppData\\Local\\Programs\\Python\\Python312\\Lib\\site-packages\\torch\\nn\\functional.py:5962: UserWarning: Support for mismatched key_padding_mask and attn_mask is deprecated. Use same type for both instead.\n",
      "  warnings.warn(\n",
      "c:\\Users\\aaron\\AppData\\Local\\Programs\\Python\\Python312\\Lib\\site-packages\\torch\\nn\\modules\\transformer.py:505: UserWarning: The PyTorch API of nested tensors is in prototype stage and will change in the near future. We recommend specifying layout=torch.jagged when constructing a nested tensor, as this layout receives active development, has better operator coverage, and works with torch.compile. (Triggered internally at C:\\actions-runner\\_work\\pytorch\\pytorch\\pytorch\\aten\\src\\ATen\\NestedTensorImpl.cpp:182.)\n",
      "  output = torch._nested_tensor_from_mask(\n"
     ]
    },
    {
     "name": "stdout",
     "output_type": "stream",
     "text": [
      "Época 5/5:\n",
      "  Pérdida Entrenamiento: 6.0398\n",
      "  Pérdida Testeo: 6.8456\n",
      "  Empeorando\n",
      "Entrenamiento completado! Tiempo total: 243.56 segundos\n"
     ]
    }
   ],
   "source": [
    "BATCH_SIZE = 1\n",
    "\n",
    "train_dataloader = DataLoader(train_dataset, batch_size=BATCH_SIZE, collate_fn=custom_collate)\n",
    "val_dataloader = DataLoader(val_dataset, batch_size=BATCH_SIZE, collate_fn=custom_collate)\n",
    "\n",
    "NUM_EPOCHS = 5\n",
    "LR = 1e-3\n",
    "train_loss, val_loss = train(model, train_dataloader, val_dataloader, epoch_max=NUM_EPOCHS, lr=LR)"
   ]
  },
  {
   "cell_type": "code",
   "execution_count": 7,
   "id": "eaab8b82",
   "metadata": {},
   "outputs": [
    {
     "data": {
      "image/png": "[encoded data removed]",
      "text/plain": [
       "<Figure size 1000x500 with 1 Axes>"
      ]
     },
     "metadata": {},
     "output_type": "display_data"
    }
   ],
   "source": [
    "def plot_losses(train_loss, val_loss):\n",
    "    plt.figure(figsize=(10, 5))\n",
    "    plt.plot(train_loss, label='Pérdida de Entrenamiento')\n",
    "    plt.plot(val_loss, label='Pérdida de Validación')\n",
    "    plt.xlabel('Épocas')\n",
    "    plt.ylabel('Pérdida')\n",
    "    plt.title('Pérdida de Entrenamiento y Validación a lo largo de las Épocas')\n",
    "    plt.legend()\n",
    "    plt.grid(True)\n",
    "    plt.show()\n",
    "\n",
    "plot_losses(train_loss, val_loss)"
   ]
  }
 ],
 "metadata": {
  "kernelspec": {
   "display_name": "Python 3",
   "language": "python",
   "name": "python3"
  },
  "language_info": {
   "codemirror_mode": {
    "name": "ipython",
    "version": 3
   },
   "file_extension": ".py",
   "mimetype": "text/x-python",
   "name": "python",
   "nbconvert_exporter": "python",
   "pygments_lexer": "ipython3",
   "version": "3.12.2"
  }
 },
 "nbformat": 4,
 "nbformat_minor": 5
}

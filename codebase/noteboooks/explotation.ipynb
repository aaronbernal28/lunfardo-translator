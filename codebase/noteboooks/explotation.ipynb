{
 "cells": [
  {
   "cell_type": "code",
   "execution_count": 1,
   "id": "24f89512",
   "metadata": {},
   "outputs": [
    {
     "name": "stdout",
     "output_type": "stream",
     "text": [
      "Usando dispositivo: cuda\n"
     ]
    }
   ],
   "source": [
    "import torch\n",
    "import torch.nn as nn\n",
    "import pandas as pd\n",
    "import matplotlib.pyplot as plt\n",
    "from transformers import BertTokenizer, BertModel\n",
    "\n",
    "device = torch.device('cuda' if torch.cuda.is_available() else 'cpu')\n",
    "print(f\"Usando dispositivo: {device}\")\n",
    "torch.cuda.set_per_process_memory_fraction(0.8)"
   ]
  },
  {
   "cell_type": "code",
   "execution_count": 2,
   "id": "136f7fb1",
   "metadata": {},
   "outputs": [
    {
     "data": {
      "text/html": [
       "<div>\n",
       "<style scoped>\n",
       "    .dataframe tbody tr th:only-of-type {\n",
       "        vertical-align: middle;\n",
       "    }\n",
       "\n",
       "    .dataframe tbody tr th {\n",
       "        vertical-align: top;\n",
       "    }\n",
       "\n",
       "    .dataframe thead th {\n",
       "        text-align: right;\n",
       "    }\n",
       "</style>\n",
       "<table border=\"1\" class=\"dataframe\">\n",
       "  <thead>\n",
       "    <tr style=\"text-align: right;\">\n",
       "      <th></th>\n",
       "      <th>spanish</th>\n",
       "      <th>lunfardo</th>\n",
       "    </tr>\n",
       "  </thead>\n",
       "  <tbody>\n",
       "    <tr>\n",
       "      <th>0</th>\n",
       "      <td>representaciones de la tierra y el agua de sis...</td>\n",
       "      <td>¡las labras de la tierra y el agua mierda son ...</td>\n",
       "    </tr>\n",
       "    <tr>\n",
       "      <th>1</th>\n",
       "      <td>gente nadando en la alberca 2022 es una de las...</td>\n",
       "      <td>gente chapoteando en la pileta 2022 es uno de ...</td>\n",
       "    </tr>\n",
       "    <tr>\n",
       "      <th>2</th>\n",
       "      <td>tierra del sol se complace en presentar vicent...</td>\n",
       "      <td>tierra del sol se pone el moño pa' presentarte...</td>\n",
       "    </tr>\n",
       "    <tr>\n",
       "      <th>3</th>\n",
       "      <td>trabajando con maestría diversas temáticas, si...</td>\n",
       "      <td>con un chamuyo bárbaro, el siso se mandó una b...</td>\n",
       "    </tr>\n",
       "    <tr>\n",
       "      <th>4</th>\n",
       "      <td>la galería tierra del sol se encuentra en el 7...</td>\n",
       "      <td>la canchita tierra del sol la garrás en el 741...</td>\n",
       "    </tr>\n",
       "  </tbody>\n",
       "</table>\n",
       "</div>"
      ],
      "text/plain": [
       "                                             spanish  \\\n",
       "0  representaciones de la tierra y el agua de sis...   \n",
       "1  gente nadando en la alberca 2022 es una de las...   \n",
       "2  tierra del sol se complace en presentar vicent...   \n",
       "3  trabajando con maestría diversas temáticas, si...   \n",
       "4  la galería tierra del sol se encuentra en el 7...   \n",
       "\n",
       "                                            lunfardo  \n",
       "0  ¡las labras de la tierra y el agua mierda son ...  \n",
       "1  gente chapoteando en la pileta 2022 es uno de ...  \n",
       "2  tierra del sol se pone el moño pa' presentarte...  \n",
       "3  con un chamuyo bárbaro, el siso se mandó una b...  \n",
       "4  la canchita tierra del sol la garrás en el 741...  "
      ]
     },
     "execution_count": 2,
     "metadata": {},
     "output_type": "execute_result"
    }
   ],
   "source": [
    "# cargamos los datos small\n",
    "data = pd.read_csv('../../data/es_MX-es_LF_small.txt', sep='\\t', header=None)\n",
    "data.columns = ['spanish', 'lunfardo']\n",
    "data.head()"
   ]
  },
  {
   "cell_type": "code",
   "execution_count": 3,
   "id": "e5112bd5",
   "metadata": {},
   "outputs": [
    {
     "name": "stdout",
     "output_type": "stream",
     "text": [
      "Input: representaciones de la tierra y el agua de siso son el centro de una nueva exposición\n",
      "Target: ¡las labras de la tierra y el agua mierda son el eje de un quilombo nuevo!\n",
      "['representacion', '##es', 'de', 'la', 'tierra', 'y', 'el', 'agua', 'de', 'sis', '##o', 'son', 'el', 'centro', 'de', 'una', 'nueva', 'exposicion']\n",
      "['¡', 'las', 'lab', '##ras', 'de', 'la', 'tierra', 'y', 'el', 'agua', 'mie', '##rda', 'son', 'el', 'eje', 'de', 'un', 'qui', '##lom', '##bo', 'nuevo', '!']\n",
      "[101, 37889, 10165, 10102, 10106, 15456, 167, 10117, 13479, 10102, 21445, 10132, 10289, 10117, 11995, 10102, 10155, 12782, 38663, 102]\n",
      "[101, 173, 10265, 31494, 13026, 10102, 10106, 15456, 167, 10117, 13479, 95096, 22741, 10289, 10117, 61529, 10102, 10119, 10379, 21440, 11976, 13976, 106, 102]\n"
     ]
    }
   ],
   "source": [
    "# testeamos el tokenizador de BERT\n",
    "model_name = \"bert-base-multilingual-uncased\"\n",
    "tokenizer = BertTokenizer.from_pretrained(model_name)\n",
    "\n",
    "input_0 = data['spanish'][0]\n",
    "target_0 = data['lunfardo'][0]\n",
    "\n",
    "print(f\"Input: {input_0}\")\n",
    "print(f\"Target: {target_0}\")\n",
    "\n",
    "print(tokenizer.tokenize(input_0))\n",
    "print(tokenizer.tokenize(target_0))\n",
    "\n",
    "print(tokenizer.encode(input_0))\n",
    "print(tokenizer.encode(target_0))"
   ]
  },
  {
   "cell_type": "code",
   "execution_count": 4,
   "id": "3994ef7c",
   "metadata": {},
   "outputs": [
    {
     "data": {
      "image/png": "[encoded data removed]",
      "text/plain": [
       "<Figure size 1000x500 with 1 Axes>"
      ]
     },
     "metadata": {},
     "output_type": "display_data"
    }
   ],
   "source": [
    "import matplotlib.pyplot as plt\n",
    "\n",
    "# compute token counts (including [CLS] and [SEP])\n",
    "token_counts_es = data['spanish'].apply(\n",
    "    lambda txt: len(tokenizer.encode(txt))\n",
    ")\n",
    "\n",
    "token_counts_lf = data['lunfardo'].apply(\n",
    "    lambda txt: len(tokenizer.encode(txt))\n",
    ")\n",
    "\n",
    "plt.figure(figsize=(10, 5))\n",
    "plt.hist(token_counts_es, bins=50, alpha=0.5, label='Espaniol', color='r')\n",
    "plt.hist(token_counts_lf, bins=50, alpha=0.5, label='Lunfardo', color='b')\n",
    "plt.axvline(512, color='r', linestyle='--', label='BERT max length')\n",
    "plt.xlabel(\"tokens\")\n",
    "plt.ylabel(\"Cantidad de secuencias\")\n",
    "plt.legend()\n",
    "plt.show()"
   ]
  },
  {
   "cell_type": "markdown",
   "id": "c1f11f7d",
   "metadata": {},
   "source": [
    "Truncamos a 256 tokens para poder procesar las 2 secuencias al mismo tiempo"
   ]
  },
  {
   "cell_type": "code",
   "execution_count": null,
   "id": "7826c3b4",
   "metadata": {},
   "outputs": [
    {
     "name": "stdout",
     "output_type": "stream",
     "text": [
      "representaciones de la tierra y el agua de siso son el centro de una nueva exposición\n",
      "[101, 37889, 10165, 10102, 10106, 15456, 167, 10117, 13479, 10102, 21445, 10132, 10289, 10117, 11995, 10102, 10155, 12782, 38663, 102]\n",
      "20\n",
      "torch.Size([1, 20])\n",
      "torch.Size([1, 20, 768])\n"
     ]
    }
   ],
   "source": [
    "BERT = BertModel.from_pretrained(\"bert-base-multilingual-uncased\").eval()\n",
    "batch0 = torch.tensor(tokenizer.encode(input_0)).unsqueeze(0)\n",
    "\n",
    "with torch.inference_mode():\n",
    "    bert_output = BERT(batch0)\n",
    "\n",
    "print(input_0)\n",
    "print(tokenizer.encode(input_0))\n",
    "print(len(tokenizer.encode(input_0)))\n",
    "print(batch0.shape)\n",
    "print(bert_output.last_hidden_state.shape) # ultima capa oculta\n",
    "print(bert_output.pooler_output.shape) # salida de la capa de pooling"
   ]
  },
  {
   "cell_type": "code",
   "execution_count": 12,
   "id": "5c0871a2",
   "metadata": {},
   "outputs": [
    {
     "data": {
      "text/plain": [
       "'[CLS] representaciones de la tierra y el agua de siso son el centro de una nueva exposicion [SEP]'"
      ]
     },
     "execution_count": 12,
     "metadata": {},
     "output_type": "execute_result"
    }
   ],
   "source": [
    "tokenizer.decode(tokenizer.encode(input_0))"
   ]
  },
  {
   "cell_type": "code",
   "execution_count": 19,
   "id": "6d0687a8",
   "metadata": {},
   "outputs": [
    {
     "data": {
      "text/plain": [
       "torch.Size([1, 768])"
      ]
     },
     "execution_count": 19,
     "metadata": {},
     "output_type": "execute_result"
    }
   ],
   "source": [
    "bert_output.pooler_output.shape"
   ]
  }
 ],
 "metadata": {
  "kernelspec": {
   "display_name": "Python 3",
   "language": "python",
   "name": "python3"
  },
  "language_info": {
   "codemirror_mode": {
    "name": "ipython",
    "version": 3
   },
   "file_extension": ".py",
   "mimetype": "text/x-python",
   "name": "python",
   "nbconvert_exporter": "python",
   "pygments_lexer": "ipython3",
   "version": "3.12.2"
  }
 },
 "nbformat": 4,
 "nbformat_minor": 5
}

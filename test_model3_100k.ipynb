{
 "cells": [
  {
   "cell_type": "markdown",
   "id": "78d5e819",
   "metadata": {},
   "source": [
    "## Setup"
   ]
  },
  {
   "cell_type": "code",
   "execution_count": 1,
   "id": "284c2530",
   "metadata": {},
   "outputs": [
    {
     "name": "stdout",
     "output_type": "stream",
     "text": [
      "Usando dispositivo: cuda\n"
     ]
    }
   ],
   "source": [
    "import torch\n",
    "import torch.nn as nn\n",
    "import numpy as np\n",
    "import pandas as pd\n",
    "import matplotlib.pyplot as plt\n",
    "from torch.utils.data import DataLoader\n",
    "from codebase.models.model3 import model3\n",
    "from codebase.train import train, dataset_token, custom_collate, plot_losses, tokenizer\n",
    "\n",
    "device = torch.device('cuda' if torch.cuda.is_available() else 'cpu')\n",
    "print(f\"Usando dispositivo: {device}\")\n",
    "torch.cuda.set_per_process_memory_fraction(0.8)"
   ]
  },
  {
   "cell_type": "code",
   "execution_count": 2,
   "id": "0175300a",
   "metadata": {},
   "outputs": [
    {
     "data": {
      "text/html": [
       "<div>\n",
       "<style scoped>\n",
       "    .dataframe tbody tr th:only-of-type {\n",
       "        vertical-align: middle;\n",
       "    }\n",
       "\n",
       "    .dataframe tbody tr th {\n",
       "        vertical-align: top;\n",
       "    }\n",
       "\n",
       "    .dataframe thead th {\n",
       "        text-align: right;\n",
       "    }\n",
       "</style>\n",
       "<table border=\"1\" class=\"dataframe\">\n",
       "  <thead>\n",
       "    <tr style=\"text-align: right;\">\n",
       "      <th></th>\n",
       "      <th>spanish</th>\n",
       "      <th>lunfardo</th>\n",
       "    </tr>\n",
       "  </thead>\n",
       "  <tbody>\n",
       "    <tr>\n",
       "      <th>0</th>\n",
       "      <td>las compañías que los venden afirman que son u...</td>\n",
       "      <td>los vivos que los largan aseguran que son un m...</td>\n",
       "    </tr>\n",
       "    <tr>\n",
       "      <th>1</th>\n",
       "      <td>academias y escuelas en quart de poblet página...</td>\n",
       "      <td>los colegios y las escuelas en quart de poblet...</td>\n",
       "    </tr>\n",
       "    <tr>\n",
       "      <th>2</th>\n",
       "      <td>existen varias áreas recreativas como la del m...</td>\n",
       "      <td>hay varios chongos para reventar la tarde, com...</td>\n",
       "    </tr>\n",
       "    <tr>\n",
       "      <th>3</th>\n",
       "      <td>moldeo por inyección de plástico</td>\n",
       "      <td>meterle el plástico a presión</td>\n",
       "    </tr>\n",
       "    <tr>\n",
       "      <th>4</th>\n",
       "      <td>el equipo descendió a segunda división, quedan...</td>\n",
       "      <td>el cuadro se fue al tacho a la b, quedando emp...</td>\n",
       "    </tr>\n",
       "  </tbody>\n",
       "</table>\n",
       "</div>"
      ],
      "text/plain": [
       "                                             spanish  \\\n",
       "0  las compañías que los venden afirman que son u...   \n",
       "1  academias y escuelas en quart de poblet página...   \n",
       "2  existen varias áreas recreativas como la del m...   \n",
       "3                   moldeo por inyección de plástico   \n",
       "4  el equipo descendió a segunda división, quedan...   \n",
       "\n",
       "                                            lunfardo  \n",
       "0  los vivos que los largan aseguran que son un m...  \n",
       "1  los colegios y las escuelas en quart de poblet...  \n",
       "2  hay varios chongos para reventar la tarde, com...  \n",
       "3                      meterle el plástico a presión  \n",
       "4  el cuadro se fue al tacho a la b, quedando emp...  "
      ]
     },
     "execution_count": 2,
     "metadata": {},
     "output_type": "execute_result"
    }
   ],
   "source": [
    "# cargamos los datos 100k\n",
    "data = pd.read_csv('data/es-es_LF_100k.txt', sep='\\t', header=None, on_bad_lines='skip')\n",
    "filtered_vocab = np.load('data/sub_vocab.npy').tolist()\n",
    "data.columns = ['spanish', 'lunfardo']\n",
    "data.head()"
   ]
  },
  {
   "cell_type": "code",
   "execution_count": 3,
   "id": "89a44676",
   "metadata": {},
   "outputs": [
    {
     "name": "stdout",
     "output_type": "stream",
     "text": [
      "Primer elemento del dataset de entrenamiento: {'input': tensor([  101, 95958, 10155, 65407, 21585, 12022, 11031,   119,   102],\n",
      "       device='cuda:0'), 'target': tensor([  101,   173, 95958, 10155, 65407, 21585, 10102, 10106, 17624, 10278,\n",
      "          106,   102], device='cuda:0'), 'input_length': tensor(9, device='cuda:0'), 'target_length': tensor(12, device='cuda:0')}\n"
     ]
    }
   ],
   "source": [
    "from sklearn.model_selection import train_test_split\n",
    "\n",
    "X_train, X_val, y_train, y_val = train_test_split(data['spanish'], data['lunfardo'],\n",
    "                                                  test_size=0.1, random_state=28)\n",
    "\n",
    "train_dataset = dataset_token(X_train, y_train)\n",
    "val_dataset = dataset_token(X_val, y_val)\n",
    "\n",
    "print('Primer elemento del dataset de entrenamiento:', train_dataset[1])"
   ]
  },
  {
   "cell_type": "markdown",
   "id": "ecd57e2b",
   "metadata": {},
   "source": [
    "## Intento 1\n",
    "Tiene que poder memorizar 10 muestras para empezar"
   ]
  },
  {
   "cell_type": "code",
   "execution_count": 4,
   "id": "4bf562c0",
   "metadata": {},
   "outputs": [
    {
     "name": "stdout",
     "output_type": "stream",
     "text": [
      "Modelo creado con 8297745 parámetros\n"
     ]
    }
   ],
   "source": [
    "# Inicializa el modelo \n",
    "model = model3(\n",
    "    name = 'transformer_plus_filt_vocab',\n",
    "    filtered_vocab=filtered_vocab,\n",
    "    d_model=512//2,\n",
    "    nhead=4,\n",
    "    num_encoder_layers=3,\n",
    "    num_decoder_layers=3,\n",
    "    dim_feedforward=1024\n",
    ").to(device)\n",
    "\n",
    "print(f\"Modelo creado con {sum(p.numel() for p in model.parameters())} parámetros\")"
   ]
  },
  {
   "cell_type": "code",
   "execution_count": 5,
   "id": "976da387",
   "metadata": {},
   "outputs": [
    {
     "name": "stdout",
     "output_type": "stream",
     "text": [
      "Iniciando entrenamiento...\n",
      "--------------------------------------------------\n"
     ]
    },
    {
     "name": "stderr",
     "output_type": "stream",
     "text": [
      "c:\\Users\\aaron\\AppData\\Local\\Programs\\Python\\Python312\\Lib\\site-packages\\torch\\nn\\functional.py:5962: UserWarning: Support for mismatched key_padding_mask and attn_mask is deprecated. Use same type for both instead.\n",
      "  warnings.warn(\n"
     ]
    },
    {
     "name": "stdout",
     "output_type": "stream",
     "text": [
      "Entrenamiento completado! Tiempo total: 0.44 minutos\n"
     ]
    }
   ],
   "source": [
    "BATCH_SIZE = 10\n",
    "NUM_EPOCHS = 500\n",
    "LR = 1e-3\n",
    "\n",
    "data_overfit = data.head(BATCH_SIZE)\n",
    "dataset_overfit = dataset_token(data_overfit['spanish'], data_overfit['lunfardo'])\n",
    "loader_overfit = DataLoader(dataset_overfit, batch_size=BATCH_SIZE, collate_fn=custom_collate)\n",
    "train_loss, val_loss = train(model, loader_overfit, epoch_max=NUM_EPOCHS, lr=LR)"
   ]
  },
  {
   "cell_type": "code",
   "execution_count": 6,
   "id": "4b177633",
   "metadata": {},
   "outputs": [
    {
     "data": {
      "image/png": "[encoded data removed]",
      "text/plain": [
       "<Figure size 1000x500 with 1 Axes>"
      ]
     },
     "metadata": {},
     "output_type": "display_data"
    }
   ],
   "source": [
    "plot_losses(train_loss, val_loss)"
   ]
  },
  {
   "cell_type": "code",
   "execution_count": 7,
   "id": "eb479030",
   "metadata": {},
   "outputs": [
    {
     "name": "stdout",
     "output_type": "stream",
     "text": [
      "[CLS] las companias que los venden afirman que son un bien para la salud porque sus compuestos se presentan en concentraciones muy inferiores respecto a los tradicionales. [SEP]\n",
      "[CLS] los vivos que los largan aseguran que son un milagro pa'la salud porque sus menjunjes andan en dosis de cagada, pero recontra menos que los de siempre. [SEP]\n",
      "[CLS] los vivos que los largan aseguran que son un milagro pa'la salud porque sus menjunjes andan en dosis de cagada, pero recontra menos que los de siempre. [SEP]\n"
     ]
    }
   ],
   "source": [
    "def generate_target(dataset, IDX):\n",
    "    input_IDX = dataset[IDX]['input']\n",
    "    target_IDX = dataset[IDX]['target']\n",
    "    target_pred_IDX = model.generate(input_IDX)\n",
    "    print(tokenizer.decode(input_IDX))\n",
    "    print(tokenizer.decode(target_IDX))\n",
    "    print(tokenizer.decode(target_pred_IDX))\n",
    "\n",
    "generate_target(dataset_overfit, IDX=0)"
   ]
  },
  {
   "cell_type": "code",
   "execution_count": 8,
   "id": "45455199",
   "metadata": {},
   "outputs": [
    {
     "name": "stdout",
     "output_type": "stream",
     "text": [
      "[CLS] academias y escuelas en quart de poblet pagina quart de poblet. [SEP]\n",
      "[CLS] los colegios y las escuelas en quart de poblet, la data de quart de poblet. [SEP]\n",
      "[CLS] los colegios y las escuelas en quart de poblet, la data de quart de poblet. [SEP]\n"
     ]
    }
   ],
   "source": [
    "generate_target(dataset_overfit, IDX=1)"
   ]
  },
  {
   "cell_type": "code",
   "execution_count": 9,
   "id": "f0c0ef59",
   "metadata": {},
   "outputs": [
    {
     "name": "stdout",
     "output_type": "stream",
     "text": [
      "[CLS] existen varias areas recreativas como la del molino de pedroso que cuenta tambien con camping, la de la picota, en el coto y la presa del rey en jubia. existe tambien un parque urbano a orillas del rio freixeiro, junto al que se ha construido una de las mas grandes urbanizaciones de la comarca. naron cuenta con dos centros comerciales. [SEP]\n",
      "[CLS] hay varios chongos para reventar la tarde, como el del molino del viejo pedorro, que aparte tiene para acampar como unos pobres diablos. despues tenes la de la picota, ahi en el coto, y la represa del mandamas en jubia. tambien hay un parque piola a la vera del rio freixeiro, al lado de donde se clavaron unas de las urbanizaciones mas grosas de la comarca. en naron, para colmo, te encajaron dos shoppings. [SEP]\n",
      "[CLS] hay varios chongos para reventar la tarde, como el del molino del viejo pedorro, que aparte tiene para acampar como unos pobres diablos. despues tenes la de la picota, ahi en el coto, y la represa del mandamas en jubia. tambien hay un parque piola a la vera del rio freixeiro, al lado de donde se clavaron unas de las urbanizaciones mas grosas de la comarca. en naron, para colmo, te encajaron dos shoppings. [SEP]\n"
     ]
    }
   ],
   "source": [
    "generate_target(dataset_overfit, IDX=2)"
   ]
  },
  {
   "cell_type": "code",
   "execution_count": 10,
   "id": "53b39547",
   "metadata": {},
   "outputs": [
    {
     "name": "stdout",
     "output_type": "stream",
     "text": [
      "[CLS] de esta manera el movimiento mapuche ingreso a la escena publica chilena, entremezclandose con la politica y sus partidos aunque siempre conservando su especificidad. [SEP]\n",
      "[CLS] asi, sin anestesia, los mapuches se mandaron a la vidriera chilena, mechiendose con los gambas y sus partuzas, pero sin perder la posta de lo suyo. [SEP]\n",
      "[CLS] asi, sin anestesia, los mapuches se mandaron a la vidrieraulas lo suyo. [SEP]\n"
     ]
    }
   ],
   "source": [
    "generate_target(dataset_overfit, IDX=9)"
   ]
  },
  {
   "cell_type": "markdown",
   "id": "ec27b269",
   "metadata": {},
   "source": [
    "## Intento 2"
   ]
  },
  {
   "cell_type": "code",
   "execution_count": 11,
   "id": "806e300e",
   "metadata": {},
   "outputs": [
    {
     "name": "stdout",
     "output_type": "stream",
     "text": [
      "Modelo creado con 8297745 parámetros\n"
     ]
    }
   ],
   "source": [
    "# Inicializa el modelo \n",
    "model = model3(\n",
    "    name = 'transformer_plus_filt_vocab',\n",
    "    filtered_vocab=filtered_vocab,\n",
    "    d_model=512//2,\n",
    "    nhead=4,\n",
    "    num_encoder_layers=3,\n",
    "    num_decoder_layers=3,\n",
    "    dim_feedforward=1024\n",
    ").to(device)\n",
    "\n",
    "print(f\"Modelo creado con {sum(p.numel() for p in model.parameters())} parámetros\")"
   ]
  },
  {
   "cell_type": "code",
   "execution_count": 12,
   "id": "a4c56cd3",
   "metadata": {},
   "outputs": [
    {
     "name": "stdout",
     "output_type": "stream",
     "text": [
      "Iniciando entrenamiento...\n",
      "--------------------------------------------------\n"
     ]
    },
    {
     "ename": "RuntimeError",
     "evalue": "CUDA error: CUBLAS_STATUS_EXECUTION_FAILED when calling `cublasSgemm( handle, opa, opb, m, n, k, &alpha, a, lda, b, ldb, &beta, c, ldc)`",
     "output_type": "error",
     "traceback": [
      "\u001b[1;31m---------------------------------------------------------------------------\u001b[0m",
      "\u001b[1;31mRuntimeError\u001b[0m                              Traceback (most recent call last)",
      "Cell \u001b[1;32mIn[12], line 8\u001b[0m\n\u001b[0;32m      5\u001b[0m train_dataloader \u001b[38;5;241m=\u001b[39m DataLoader(train_dataset, batch_size\u001b[38;5;241m=\u001b[39mBATCH_SIZE, collate_fn\u001b[38;5;241m=\u001b[39mcustom_collate)\n\u001b[0;32m      6\u001b[0m val_dataloader \u001b[38;5;241m=\u001b[39m DataLoader(val_dataset, batch_size\u001b[38;5;241m=\u001b[39mBATCH_SIZE, collate_fn\u001b[38;5;241m=\u001b[39mcustom_collate)\n\u001b[1;32m----> 8\u001b[0m train_loss, val_loss \u001b[38;5;241m=\u001b[39m \u001b[43mtrain\u001b[49m\u001b[43m(\u001b[49m\u001b[43mmodel\u001b[49m\u001b[43m,\u001b[49m\u001b[43m \u001b[49m\u001b[43mtrain_dataset\u001b[49m\u001b[43m,\u001b[49m\u001b[43m \u001b[49m\u001b[43mval_dataset\u001b[49m\u001b[43m,\u001b[49m\u001b[43m \u001b[49m\u001b[43mepoch_max\u001b[49m\u001b[38;5;241;43m=\u001b[39;49m\u001b[43mNUM_EPOCHS\u001b[49m\u001b[43m,\u001b[49m\u001b[43m \u001b[49m\u001b[43mlr\u001b[49m\u001b[38;5;241;43m=\u001b[39;49m\u001b[43mLR\u001b[49m\u001b[43m,\u001b[49m\u001b[43m \u001b[49m\u001b[43mverbose_each\u001b[49m\u001b[38;5;241;43m=\u001b[39;49m\u001b[38;5;241;43m1\u001b[39;49m\u001b[43m)\u001b[49m\n",
      "File \u001b[1;32mc:\\Users\\aaron\\Documents\\lunfardo-translator\\codebase\\train.py:38\u001b[0m, in \u001b[0;36mtrain\u001b[1;34m(model, train_loader, val_loader, epoch_max, lr, verbose_each)\u001b[0m\n\u001b[0;32m     34\u001b[0m optimizer\u001b[38;5;241m.\u001b[39mzero_grad()\n\u001b[0;32m     36\u001b[0m loss \u001b[38;5;241m=\u001b[39m model\u001b[38;5;241m.\u001b[39mloss(\u001b[38;5;28minput\u001b[39m, target)\n\u001b[1;32m---> 38\u001b[0m \u001b[43mloss\u001b[49m\u001b[38;5;241;43m.\u001b[39;49m\u001b[43mbackward\u001b[49m\u001b[43m(\u001b[49m\u001b[43m)\u001b[49m\n\u001b[0;32m     40\u001b[0m \u001b[38;5;66;03m# Gradient clipping para evitar exploding gradients\u001b[39;00m\n\u001b[0;32m     41\u001b[0m torch\u001b[38;5;241m.\u001b[39mnn\u001b[38;5;241m.\u001b[39mutils\u001b[38;5;241m.\u001b[39mclip_grad_norm_(model\u001b[38;5;241m.\u001b[39mparameters(), max_norm\u001b[38;5;241m=\u001b[39m\u001b[38;5;241m1.0\u001b[39m)\n",
      "File \u001b[1;32mc:\\Users\\aaron\\AppData\\Local\\Programs\\Python\\Python312\\Lib\\site-packages\\torch\\_tensor.py:648\u001b[0m, in \u001b[0;36mTensor.backward\u001b[1;34m(self, gradient, retain_graph, create_graph, inputs)\u001b[0m\n\u001b[0;32m    638\u001b[0m \u001b[38;5;28;01mif\u001b[39;00m has_torch_function_unary(\u001b[38;5;28mself\u001b[39m):\n\u001b[0;32m    639\u001b[0m     \u001b[38;5;28;01mreturn\u001b[39;00m handle_torch_function(\n\u001b[0;32m    640\u001b[0m         Tensor\u001b[38;5;241m.\u001b[39mbackward,\n\u001b[0;32m    641\u001b[0m         (\u001b[38;5;28mself\u001b[39m,),\n\u001b[1;32m   (...)\u001b[0m\n\u001b[0;32m    646\u001b[0m         inputs\u001b[38;5;241m=\u001b[39minputs,\n\u001b[0;32m    647\u001b[0m     )\n\u001b[1;32m--> 648\u001b[0m \u001b[43mtorch\u001b[49m\u001b[38;5;241;43m.\u001b[39;49m\u001b[43mautograd\u001b[49m\u001b[38;5;241;43m.\u001b[39;49m\u001b[43mbackward\u001b[49m\u001b[43m(\u001b[49m\n\u001b[0;32m    649\u001b[0m \u001b[43m    \u001b[49m\u001b[38;5;28;43mself\u001b[39;49m\u001b[43m,\u001b[49m\u001b[43m \u001b[49m\u001b[43mgradient\u001b[49m\u001b[43m,\u001b[49m\u001b[43m \u001b[49m\u001b[43mretain_graph\u001b[49m\u001b[43m,\u001b[49m\u001b[43m \u001b[49m\u001b[43mcreate_graph\u001b[49m\u001b[43m,\u001b[49m\u001b[43m \u001b[49m\u001b[43minputs\u001b[49m\u001b[38;5;241;43m=\u001b[39;49m\u001b[43minputs\u001b[49m\n\u001b[0;32m    650\u001b[0m \u001b[43m\u001b[49m\u001b[43m)\u001b[49m\n",
      "File \u001b[1;32mc:\\Users\\aaron\\AppData\\Local\\Programs\\Python\\Python312\\Lib\\site-packages\\torch\\autograd\\__init__.py:353\u001b[0m, in \u001b[0;36mbackward\u001b[1;34m(tensors, grad_tensors, retain_graph, create_graph, grad_variables, inputs)\u001b[0m\n\u001b[0;32m    348\u001b[0m     retain_graph \u001b[38;5;241m=\u001b[39m create_graph\n\u001b[0;32m    350\u001b[0m \u001b[38;5;66;03m# The reason we repeat the same comment below is that\u001b[39;00m\n\u001b[0;32m    351\u001b[0m \u001b[38;5;66;03m# some Python versions print out the first line of a multi-line function\u001b[39;00m\n\u001b[0;32m    352\u001b[0m \u001b[38;5;66;03m# calls in the traceback and some print out the last line\u001b[39;00m\n\u001b[1;32m--> 353\u001b[0m \u001b[43m_engine_run_backward\u001b[49m\u001b[43m(\u001b[49m\n\u001b[0;32m    354\u001b[0m \u001b[43m    \u001b[49m\u001b[43mtensors\u001b[49m\u001b[43m,\u001b[49m\n\u001b[0;32m    355\u001b[0m \u001b[43m    \u001b[49m\u001b[43mgrad_tensors_\u001b[49m\u001b[43m,\u001b[49m\n\u001b[0;32m    356\u001b[0m \u001b[43m    \u001b[49m\u001b[43mretain_graph\u001b[49m\u001b[43m,\u001b[49m\n\u001b[0;32m    357\u001b[0m \u001b[43m    \u001b[49m\u001b[43mcreate_graph\u001b[49m\u001b[43m,\u001b[49m\n\u001b[0;32m    358\u001b[0m \u001b[43m    \u001b[49m\u001b[43minputs\u001b[49m\u001b[43m,\u001b[49m\n\u001b[0;32m    359\u001b[0m \u001b[43m    \u001b[49m\u001b[43mallow_unreachable\u001b[49m\u001b[38;5;241;43m=\u001b[39;49m\u001b[38;5;28;43;01mTrue\u001b[39;49;00m\u001b[43m,\u001b[49m\n\u001b[0;32m    360\u001b[0m \u001b[43m    \u001b[49m\u001b[43maccumulate_grad\u001b[49m\u001b[38;5;241;43m=\u001b[39;49m\u001b[38;5;28;43;01mTrue\u001b[39;49;00m\u001b[43m,\u001b[49m\n\u001b[0;32m    361\u001b[0m \u001b[43m\u001b[49m\u001b[43m)\u001b[49m\n",
      "File \u001b[1;32mc:\\Users\\aaron\\AppData\\Local\\Programs\\Python\\Python312\\Lib\\site-packages\\torch\\autograd\\graph.py:824\u001b[0m, in \u001b[0;36m_engine_run_backward\u001b[1;34m(t_outputs, *args, **kwargs)\u001b[0m\n\u001b[0;32m    822\u001b[0m     unregister_hooks \u001b[38;5;241m=\u001b[39m _register_logging_hooks_on_whole_graph(t_outputs)\n\u001b[0;32m    823\u001b[0m \u001b[38;5;28;01mtry\u001b[39;00m:\n\u001b[1;32m--> 824\u001b[0m     \u001b[38;5;28;01mreturn\u001b[39;00m \u001b[43mVariable\u001b[49m\u001b[38;5;241;43m.\u001b[39;49m\u001b[43m_execution_engine\u001b[49m\u001b[38;5;241;43m.\u001b[39;49m\u001b[43mrun_backward\u001b[49m\u001b[43m(\u001b[49m\u001b[43m  \u001b[49m\u001b[38;5;66;43;03m# Calls into the C++ engine to run the backward pass\u001b[39;49;00m\n\u001b[0;32m    825\u001b[0m \u001b[43m        \u001b[49m\u001b[43mt_outputs\u001b[49m\u001b[43m,\u001b[49m\u001b[43m \u001b[49m\u001b[38;5;241;43m*\u001b[39;49m\u001b[43margs\u001b[49m\u001b[43m,\u001b[49m\u001b[43m \u001b[49m\u001b[38;5;241;43m*\u001b[39;49m\u001b[38;5;241;43m*\u001b[39;49m\u001b[43mkwargs\u001b[49m\n\u001b[0;32m    826\u001b[0m \u001b[43m    \u001b[49m\u001b[43m)\u001b[49m  \u001b[38;5;66;03m# Calls into the C++ engine to run the backward pass\u001b[39;00m\n\u001b[0;32m    827\u001b[0m \u001b[38;5;28;01mfinally\u001b[39;00m:\n\u001b[0;32m    828\u001b[0m     \u001b[38;5;28;01mif\u001b[39;00m attach_logging_hooks:\n",
      "\u001b[1;31mRuntimeError\u001b[0m: CUDA error: CUBLAS_STATUS_EXECUTION_FAILED when calling `cublasSgemm( handle, opa, opb, m, n, k, &alpha, a, lda, b, ldb, &beta, c, ldc)`"
     ]
    }
   ],
   "source": [
    "BATCH_SIZE = 64 #*2\n",
    "NUM_EPOCHS = 5\n",
    "LR = 1e-3\n",
    "\n",
    "train_dataloader = DataLoader(train_dataset, batch_size=BATCH_SIZE, collate_fn=custom_collate)\n",
    "val_dataloader = DataLoader(val_dataset, batch_size=BATCH_SIZE, collate_fn=custom_collate)\n",
    "\n",
    "train_loss, val_loss = train(model, train_dataset, val_dataset, epoch_max=NUM_EPOCHS, lr=LR, verbose_each=1)"
   ]
  },
  {
   "cell_type": "code",
   "execution_count": null,
   "id": "a8fd0d3e",
   "metadata": {},
   "outputs": [],
   "source": [
    "plot_losses(train_loss, val_loss)"
   ]
  }
 ],
 "metadata": {
  "kernelspec": {
   "display_name": "Python 3",
   "language": "python",
   "name": "python3"
  },
  "language_info": {
   "codemirror_mode": {
    "name": "ipython",
    "version": 3
   },
   "file_extension": ".py",
   "mimetype": "text/x-python",
   "name": "python",
   "nbconvert_exporter": "python",
   "pygments_lexer": "ipython3",
   "version": "3.12.2"
  }
 },
 "nbformat": 4,
 "nbformat_minor": 5
}
